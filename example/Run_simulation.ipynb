{
 "cells": [
  {
   "cell_type": "code",
   "execution_count": 1,
   "id": "838f6f6b",
   "metadata": {},
   "outputs": [],
   "source": [
    "import pandas as pd\n",
    "\n",
    "markets_file = \"../data/markets.xlsx\"\n",
    "\n",
    "\n",
    "# Note: only take first 10 half-hour intervals while designing codebase\n",
    "def read_market1_data(path: str) -> pd.DataFrame:\n",
    "    return pd.read_excel(\n",
    "        path,\n",
    "        sheet_name=\"Half-hourly data\",\n",
    "        names=[\"Period_start\", \"Price\"],\n",
    "        index_col=0,\n",
    "    ).iloc[0:10]\n",
    "\n",
    "\n",
    "# Note: only take first 5 hour intervals while designing codebase\n",
    "def read_market2_data(path: str) -> pd.DataFrame:\n",
    "    market2 = pd.read_excel(\n",
    "        markets_file,\n",
    "        sheet_name=\"Hourly data\",\n",
    "        names=[\"Period_start\", \"Price\"],\n",
    "        index_col=0,\n",
    "    ).iloc[0:5]\n",
    "\n",
    "    # # Re-index to half-hourly periods, filling values forward from the hour\n",
    "    # half_hours = pd.date_range(start=market2.index[0], end=market2.index[-1], freq='30min', name=\"Period_start\")\n",
    "    # return market2.reindex(half_hours, method='ffill')\n",
    "    return market2\n",
    "\n",
    "\n",
    "# Load market 1\n",
    "market1_data = read_market1_data(markets_file)\n",
    "\n",
    "# Load market 2\n",
    "market2_data = read_market2_data(markets_file)"
   ]
  },
  {
   "cell_type": "code",
   "execution_count": 2,
   "id": "b372a04b",
   "metadata": {},
   "outputs": [],
   "source": [
    "from batsim.core import Battery, Market, Operator, Timepoint\n",
    "from batsim.io import write_commitments\n",
    "\n",
    "market1 = Market(\"market1\", price_interval=30)\n",
    "market2 = Market(\"market2\", price_interval=60)\n",
    "\n",
    "battery = Battery()\n",
    "\n",
    "operator = Operator()\n",
    "\n",
    "n_timesteps = 10\n",
    "# simulation_interval = 30  # mins\n",
    "timepoints = [Timepoint() for _ in range(n_timesteps)]\n",
    "commitments = []\n",
    "for timepoint in timepoints:\n",
    "    commitment = operator.determine_commitment(timepoint, battery, market1, market2)\n",
    "    battery.execute(commitment)\n",
    "    commitments.append(commitment)\n",
    "\n",
    "write_commitments(commitments, \"../data/simulation.csv\")"
   ]
  }
 ],
 "metadata": {
  "kernelspec": {
   "display_name": ".venv",
   "language": "python",
   "name": "python3"
  },
  "language_info": {
   "codemirror_mode": {
    "name": "ipython",
    "version": 3
   },
   "file_extension": ".py",
   "mimetype": "text/x-python",
   "name": "python",
   "nbconvert_exporter": "python",
   "pygments_lexer": "ipython3",
   "version": "3.13.7"
  }
 },
 "nbformat": 4,
 "nbformat_minor": 5
}
